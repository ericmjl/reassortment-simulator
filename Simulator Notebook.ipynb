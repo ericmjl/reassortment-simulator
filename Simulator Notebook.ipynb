{
 "cells": [
  {
   "cell_type": "code",
   "execution_count": 28,
   "metadata": {
    "collapsed": true
   },
   "outputs": [],
   "source": [
    "from random import choice, sample\n",
    "from copy import deepcopy\n",
    "from scipy.stats import bernoulli\n",
    "from collections import Counter, defaultdict\n",
    "\n",
    "import matplotlib.pyplot as plt\n",
    "import numpy as np\n",
    "import networkx as nx\n",
    "import seaborn as sns\n",
    "\n",
    "sns.set_style('white')\n",
    "sns.set_context('paper')\n",
    "%matplotlib inline"
   ]
  },
  {
   "cell_type": "code",
   "execution_count": 29,
   "metadata": {
    "collapsed": true
   },
   "outputs": [],
   "source": [
    "class Host(object):\n",
    "    \"\"\"docstring for Host\"\"\"\n",
    "    def __init__(self, color):\n",
    "        super(Host, self).__init__()\n",
    "        self.color = color\n",
    "        self.immunity = set()\n",
    "        self.viruses = []\n",
    "        self.expiry_time = 50\n",
    "        self.alive_time = 0\n",
    "        \n",
    "    def is_infected(self):\n",
    "        if len(self.viruses) > 0:\n",
    "            return True\n",
    "        else:\n",
    "            return False\n",
    "    \n",
    "    def has_coinfection(self):\n",
    "        if len(self.viruses) > 1:\n",
    "            return True\n",
    "        else:\n",
    "            return False\n",
    "        \n",
    "    def replicate_virus(self):\n",
    "        if not self.has_coinfection():\n",
    "            virus = choice(self.viruses)\n",
    "            seg1, seg2 = virus.seg1color, virus.seg2color\n",
    "            new_virus = Virus(seg1, seg2)\n",
    "            \n",
    "        elif self.has_coinfection():\n",
    "            # Perform reassortment\n",
    "            v1, v2 = sample(self.viruses, 2)\n",
    "\n",
    "            seg1 = choice([v1.seg1color, v2.seg1color])\n",
    "            seg2 = choice([v1.seg2color, v2.seg2color])\n",
    "\n",
    "            new_virus = Virus(seg1, seg2)\n",
    "        \n",
    "        self.viruses.append(new_virus)\n",
    "        \n",
    "    def increment_time(self):\n",
    "        for v in self.viruses:\n",
    "            v.infection_time += 1\n",
    "            \n",
    "            if v.infection_time > v.expiry_time:\n",
    "                self.immunity.add(v.seg1color)\n",
    "        self.alive_time += 1\n",
    "        \n",
    "    def remove_old_viruses(self):\n",
    "        for v in self.viruses:\n",
    "            if v.infection_time > v.expiry_time:\n",
    "                self.viruses.remove(v)\n",
    "    \n",
    "    def remove_immune_viruses(self):\n",
    "        for v in self.viruses:\n",
    "            if v.seg1color in self.immunity:\n",
    "                self.viruses.remove(v)\n",
    "    \n",
    "class Virus(object):\n",
    "    \"\"\"docstring for Virus\"\"\"\n",
    "    def __init__(self, seg1color, seg2color):\n",
    "        super(Virus, self).__init__()\n",
    "        self.seg1color = seg1color\n",
    "        self.seg2color = seg2color\n",
    "        self.infection_time = 0  # time of infection\n",
    "        self.expiry_time = 5  # num. days to immunity\n",
    "        \n",
    "    def is_mixed(self):\n",
    "        if self.seg1color != self.seg2color:\n",
    "            return True\n",
    "        else:\n",
    "            return False"
   ]
  },
  {
   "cell_type": "code",
   "execution_count": 42,
   "metadata": {
    "collapsed": false,
    "scrolled": true
   },
   "outputs": [],
   "source": [
    "\n",
    "## This block of code is for the simulation\n",
    "\n",
    "# Initialize a NetworkX directed graph to summarize the virus-host interactions.\n",
    "# Nodes are the host colors.\n",
    "# Edges denote same-host or diff-host transmission.\n",
    "# At each transmission event, capture the old host and new host colors. Also, capture whether the virus transmitted\n",
    "# was a reassortant (i.e. mixed color) virus or not.\n",
    "G = nx.DiGraph()\n",
    "G.add_node('blue')\n",
    "G.add_node('red')\n",
    "G.add_edge('blue', 'blue', mixed=0, clonal=0)\n",
    "G.add_edge('red', 'red', mixed=0, clonal=0)\n",
    "G.add_edge('blue', 'red', mixed=0, clonal=0)\n",
    "G.add_edge('red', 'blue', mixed=0, clonal=0)\n",
    "\n",
    "# Initialize 50 hosts, 25 red and 25 blue.\n",
    "hosts = []\n",
    "n_hosts = 1000\n",
    "for i in range(n_hosts):\n",
    "    if i < n_hosts / 2:\n",
    "        hosts.append(Host(color='blue'))\n",
    "    else:\n",
    "        hosts.append(Host(color='red'))\n",
    "\n",
    "# Pick 5 red hosts and 5 blue hosts at random, and infect it with a virus of the same color.\n",
    "blue_hosts = [h for h in hosts if h.color == 'blue']\n",
    "blue_hosts = sample(blue_hosts, 5)\n",
    "blue_virus = Virus(seg1color='blue', seg2color='blue')\n",
    "for h in blue_hosts:\n",
    "    h.viruses.append(blue_virus)\n",
    "\n",
    "red_hosts = [h for h in hosts if h.color == 'red']\n",
    "red_hosts = sample(red_hosts, 5)\n",
    "red_virus = Virus(seg1color='red', seg2color='red')\n",
    "for h in red_hosts:\n",
    "    h.viruses.append(red_virus)\n",
    "\n",
    "# Set up parameters\n",
    "p_immune = 1E-3   # 1 = always successful even under immune pressure\n",
    "                 # 0 = always unsuccessful under immune pressure.\n",
    "p_replicate = 0.95  # probability of replication given that a virus is infected.\n",
    "p_contact   = 1 - 1E0/n_hosts  # probability of contacting a host of the same color.\n",
    "p_same_color = 0.99  # probability of successful infection given segment of same color.\n",
    "p_diff_color = 0.9   # probability of successful infection given segment of different color.\n",
    "\n",
    "# Set up number of timesteps to run simulation\n",
    "n_timesteps = 100\n",
    "\n",
    "# Set up a defaultdict for storing data\n",
    "data = defaultdict(list)\n",
    "# n_infected = []  # number of infected hosts\n",
    "# n_immune = []  # number of immune hosts (to red and blue)\n",
    "# n_blue_immune = []  # number of blue immune hosts\n",
    "# n_red_immune = []  # number of red immune hosts\n",
    "# n_uninfected = []  # number of uninfected hosts\n",
    "# n_original = []  # number of original colored viruses (i.e. all red or all blue)\n",
    "# n_blue_virus = []  # number of blue viruses\n",
    "# n_red_virus = []  # number of red viruses\n",
    "# n_mixed = []  # number of mixed viruses\n",
    "# n_contacts = []  # number of different-colored host contacts\n",
    "\n",
    "# Run simulation\n",
    "for t in range(n_timesteps):  \n",
    "    # First part, clear up old infections.\n",
    "    for h in hosts:\n",
    "        h.increment_time()\n",
    "        h.remove_old_viruses()\n",
    "        h.remove_immune_viruses()\n",
    "        \n",
    "    # Step to replicate viruses present in hosts.\n",
    "    infected_hosts = [h for h in hosts if h.is_infected()]\n",
    "    for h in infected_hosts:\n",
    "        if bernoulli.rvs(p_replicate): # we probabilistically allow replication to occur\n",
    "            h.replicate_virus()\n",
    "    \n",
    "    # Step to transmit the viruses present in hosts.\n",
    "    infected_hosts = [h for h in hosts if h.is_infected()]\n",
    "    num_contacts = 0\n",
    "    for h in infected_hosts:\n",
    "        same_color = bernoulli.rvs(p_contact)\n",
    "        if same_color:\n",
    "            new_host = choice([h2 for h2 in hosts if h2.color == h.color])\n",
    "            num_contacts += 0\n",
    "        else:\n",
    "            new_host = choice([h2 for h2 in hosts if h2.color != h.color])\n",
    "            num_contacts += 1\n",
    "        virus = h.viruses[-1] # choose the newly replicated virus every time.\n",
    "        \n",
    "        # Determine whether to transmit or not.\n",
    "        p_transmit = 1\n",
    "        ### First, check immunity ###\n",
    "        if virus.seg1color in new_host.immunity:\n",
    "            p_transmit = p_transmit * p_immune\n",
    "        elif virus.seg1color not in new_host.immunity:\n",
    "            pass\n",
    "        \n",
    "        ### Next, check seg1.\n",
    "        if virus.seg1color == new_host.color:\n",
    "            p_transmit = p_transmit * p_same_color\n",
    "        else:\n",
    "            p_transmit = p_transmit * p_diff_color\n",
    "        \n",
    "        ### Finally, check seg2.\n",
    "        if virus.seg2color == new_host.color:\n",
    "            p_transmit = p_transmit * p_same_color\n",
    "        else:\n",
    "            p_transmit = p_transmit * p_diff_color\n",
    "\n",
    "        # Determine whether to transmit or not, by using a Bernoulli trial.\n",
    "        transmit = bernoulli.rvs(p_transmit)\n",
    "        \n",
    "        # Perform transmission step\n",
    "        if transmit:\n",
    "            new_host.viruses.append(virus)\n",
    "            # Capture data in the summary graph.\n",
    "            if virus.is_mixed():\n",
    "                G.edge[h.color][new_host.color]['mixed'] += 1\n",
    "            else:\n",
    "                G.edge[h.color][new_host.color]['clonal'] += 1\n",
    "        else:\n",
    "            pass\n",
    "        \n",
    "        \n",
    "    ### INSPECT THE SYSTEM ###\n",
    "    # Figure out how many hosts are immune.\n",
    "    num_immunes = 0\n",
    "    num_infected = 0\n",
    "    num_blue_immune = 0\n",
    "    num_red_immune = 0\n",
    "    num_uninfected = 0\n",
    "    num_mixed = 0\n",
    "    num_original = 0\n",
    "    num_red_virus = 0\n",
    "    num_blue_virus = 0\n",
    "    \n",
    "    for h in hosts:\n",
    "        if len(h.immunity) > 0:\n",
    "            num_immunes += 1\n",
    "        if h.is_infected() > 0:\n",
    "            num_infected += 1\n",
    "        if 'blue' in h.immunity:\n",
    "            num_blue_immune += 1\n",
    "        if 'red' in h.immunity:\n",
    "            num_red_immune += 1\n",
    "        if not h.is_infected():\n",
    "            num_uninfected += 1\n",
    "            \n",
    "        for v in h.viruses:\n",
    "            if v.is_mixed():\n",
    "                num_mixed += 1\n",
    "            else:\n",
    "                if v.seg1color == 'blue' and v.seg2color == 'blue':\n",
    "                    num_blue_virus += 1\n",
    "                elif v.seg1color == 'red' and v.seg2color == 'red':\n",
    "                    num_red_virus += 1\n",
    "                num_original += 1\n",
    "    data['n_immune'].append(num_immunes)\n",
    "    data['n_infected'].append(num_infected)\n",
    "    data['n_blue_immune'].append(num_blue_immune)\n",
    "    data['n_red_immune'].append(num_red_immune)\n",
    "    data['n_uninfected'].append(num_uninfected)\n",
    "    data['n_mixed'].append(num_mixed)\n",
    "    data['n_original'].append(num_original)\n",
    "    data['n_red_virus'].append(num_red_virus)\n",
    "    data['n_blue_virus'].append(num_blue_virus)\n",
    "    data['n_contacts'].append(num_contacts)\n",
    "    ### INSPECT THE SYSTEM ###\n",
    "    \n"
   ]
  },
  {
   "cell_type": "code",
   "execution_count": 43,
   "metadata": {
    "collapsed": false
   },
   "outputs": [
    {
     "data": {
      "text/plain": [
       "<matplotlib.legend.Legend at 0x7fe24f60a8d0>"
      ]
     },
     "execution_count": 43,
     "metadata": {},
     "output_type": "execute_result"
    },
    {
     "data": {
      "image/png": "[encoded data removed]",
      "text/plain": [
       "<matplotlib.figure.Figure at 0x7fe251334400>"
      ]
     },
     "metadata": {},
     "output_type": "display_data"
    }
   ],
   "source": [
    "# Reassortment successful in establishing infection or not?\n",
    "plt.plot(data['n_red_virus'], color='red', label='red')\n",
    "plt.plot(data['n_blue_virus'], color='blue', label='blue')\n",
    "plt.plot(data['n_original'], color='black', label='original')\n",
    "plt.plot(data['n_mixed'], color='purple', label='mixed')\n",
    "plt.ylabel('Number of Viruses')\n",
    "plt.xlabel('Time Step')\n",
    "plt.legend()"
   ]
  },
  {
   "cell_type": "code",
   "execution_count": 44,
   "metadata": {
    "collapsed": false
   },
   "outputs": [
    {
     "data": {
      "text/plain": [
       "False"
      ]
     },
     "execution_count": 44,
     "metadata": {},
     "output_type": "execute_result"
    }
   ],
   "source": [
    "np.array_equal(np.array(data['n_mixed']), np.zeros(100))"
   ]
  },
  {
   "cell_type": "code",
   "execution_count": 45,
   "metadata": {
    "collapsed": false
   },
   "outputs": [
    {
     "data": {
      "text/plain": [
       "array([14])"
      ]
     },
     "execution_count": 45,
     "metadata": {},
     "output_type": "execute_result"
    }
   ],
   "source": [
    "np.where(np.array(data['n_mixed']) == np.max(data['n_mixed']))[0] - np.where(np.array(data['n_original']) == np.max(data['n_original']))[0]"
   ]
  },
  {
   "cell_type": "code",
   "execution_count": 46,
   "metadata": {
    "collapsed": false
   },
   "outputs": [
    {
     "data": {
      "text/plain": [
       "<matplotlib.legend.Legend at 0x7fe24f5fde10>"
      ]
     },
     "execution_count": 46,
     "metadata": {},
     "output_type": "execute_result"
    },
    {
     "data": {
      "image/png": "[encoded data removed]",
      "text/plain": [
       "<matplotlib.figure.Figure at 0x7fe24f62c4e0>"
      ]
     },
     "metadata": {},
     "output_type": "display_data"
    }
   ],
   "source": [
    "plt.plot(data['n_infected'], color='green', label='infected')\n",
    "plt.plot(data['n_immune'], color='purple', label='immune')\n",
    "plt.plot(data['n_blue_immune'], color='blue', label='blue immune')\n",
    "plt.plot(data['n_red_immune'], color='red', label='red immune')\n",
    "plt.ylabel('Number')\n",
    "plt.xlabel('Time Steps')\n",
    "plt.legend()"
   ]
  },
  {
   "cell_type": "code",
   "execution_count": 47,
   "metadata": {
    "collapsed": false
   },
   "outputs": [
    {
     "data": {
      "text/plain": [
       "array([ 9, 12, 16, 18, 19, 20, 22, 24, 26, 28, 29, 30, 31, 32, 33, 35, 36,\n",
       "       38, 44, 46, 48, 49, 56, 57, 63, 73])"
      ]
     },
     "execution_count": 47,
     "metadata": {},
     "output_type": "execute_result"
    },
    {
     "data": {
      "image/png": "[encoded data removed]",
      "text/plain": [
       "<matplotlib.figure.Figure at 0x7fe25079efd0>"
      ]
     },
     "metadata": {},
     "output_type": "display_data"
    }
   ],
   "source": [
    "plt.plot(data['n_contacts'], color='olive', label='contacts')\n",
    "\n",
    "np.where(np.array(data['n_contacts']) >= 1)[0]"
   ]
  },
  {
   "cell_type": "code",
   "execution_count": null,
   "metadata": {
    "collapsed": true
   },
   "outputs": [],
   "source": []
  },
  {
   "cell_type": "code",
   "execution_count": null,
   "metadata": {
    "collapsed": true
   },
   "outputs": [],
   "source": []
  },
  {
   "cell_type": "code",
   "execution_count": null,
   "metadata": {
    "collapsed": true
   },
   "outputs": [],
   "source": []
  },
  {
   "cell_type": "code",
   "execution_count": null,
   "metadata": {
    "collapsed": true
   },
   "outputs": [],
   "source": []
  },
  {
   "cell_type": "code",
   "execution_count": null,
   "metadata": {
    "collapsed": true
   },
   "outputs": [],
   "source": []
  },
  {
   "cell_type": "code",
   "execution_count": null,
   "metadata": {
    "collapsed": true
   },
   "outputs": [],
   "source": []
  },
  {
   "cell_type": "code",
   "execution_count": null,
   "metadata": {
    "collapsed": true
   },
   "outputs": [],
   "source": []
  },
  {
   "cell_type": "code",
   "execution_count": null,
   "metadata": {
    "collapsed": true
   },
   "outputs": [],
   "source": []
  },
  {
   "cell_type": "code",
   "execution_count": null,
   "metadata": {
    "collapsed": true
   },
   "outputs": [],
   "source": []
  },
  {
   "cell_type": "code",
   "execution_count": null,
   "metadata": {
    "collapsed": true
   },
   "outputs": [],
   "source": []
  },
  {
   "cell_type": "code",
   "execution_count": null,
   "metadata": {
    "collapsed": true
   },
   "outputs": [],
   "source": []
  },
  {
   "cell_type": "code",
   "execution_count": null,
   "metadata": {
    "collapsed": true
   },
   "outputs": [],
   "source": []
  }
 ],
 "metadata": {
  "kernelspec": {
   "display_name": "Python 3",
   "language": "python",
   "name": "python3"
  },
  "language_info": {
   "codemirror_mode": {
    "name": "ipython",
    "version": 3
   },
   "file_extension": ".py",
   "mimetype": "text/x-python",
   "name": "python",
   "nbconvert_exporter": "python",
   "pygments_lexer": "ipython3",
   "version": "3.4.3"
  }
 },
 "nbformat": 4,
 "nbformat_minor": 0
}
